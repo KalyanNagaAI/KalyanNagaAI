{
 "cells": [
  {
   "cell_type": "code",
   "execution_count": 4,
   "id": "5dca5075",
   "metadata": {},
   "outputs": [
    {
     "name": "stdout",
     "output_type": "stream",
     "text": [
      "Requirement already satisfied: geopy in c:\\users\\kalyan\\anaconda3\\lib\\site-packages (2.2.0)\n",
      "Requirement already satisfied: geographiclib<2,>=1.49 in c:\\users\\kalyan\\anaconda3\\lib\\site-packages (from geopy) (1.52)\n",
      "Note: you may need to restart the kernel to use updated packages.\n"
     ]
    }
   ],
   "source": [
    "pip install geopy"
   ]
  },
  {
   "cell_type": "code",
   "execution_count": 7,
   "id": "ae6e7c02",
   "metadata": {},
   "outputs": [
    {
     "ename": "SyntaxError",
     "evalue": "invalid syntax (<ipython-input-7-63ca3d48b0fe>, line 5)",
     "output_type": "error",
     "traceback": [
      "\u001b[1;36m  File \u001b[1;32m\"<ipython-input-7-63ca3d48b0fe>\"\u001b[1;36m, line \u001b[1;32m5\u001b[0m\n\u001b[1;33m    Flatiron Building, 175, 5th Avenue, Flatiron, New York, NYC, New York, ...\u001b[0m\n\u001b[1;37m             ^\u001b[0m\n\u001b[1;31mSyntaxError\u001b[0m\u001b[1;31m:\u001b[0m invalid syntax\n"
     ]
    }
   ],
   "source": [
    "from geopy.geocoders import Nominatim\n",
    "geolocator = Nominatim(user_agent=\"specify_your_app_name_here\")\n",
    "location = geolocator.geocode(\"175 5th Avenue NYC\")\n",
    "print(location.address)\n",
    "Flatiron Building, 175, 5th Avenue, Flatiron, New York, NYC, New York, ...\n",
    "print((location.latitude, location.longitude))\n",
    "(40.7410861, -73.9896297241625)\n",
    "print(location.raw)\n",
    "{'place_id': '9167009604', 'type': 'attraction', ...}\n"
   ]
  },
  {
   "cell_type": "code",
   "execution_count": 8,
   "id": "eba76eb9",
   "metadata": {},
   "outputs": [
    {
     "ename": "SyntaxError",
     "evalue": "invalid syntax (<ipython-input-8-76543438cbc1>, line 5)",
     "output_type": "error",
     "traceback": [
      "\u001b[1;36m  File \u001b[1;32m\"<ipython-input-8-76543438cbc1>\"\u001b[1;36m, line \u001b[1;32m5\u001b[0m\n\u001b[1;33m    Potsdamer Platz, Mitte, Berlin, 10117, Deutschland, European Union\u001b[0m\n\u001b[1;37m              ^\u001b[0m\n\u001b[1;31mSyntaxError\u001b[0m\u001b[1;31m:\u001b[0m invalid syntax\n"
     ]
    }
   ],
   "source": [
    "from geopy.geocoders import Nominatim\n",
    "geolocator = Nominatim(user_agent=\"specify_your_app_name_here\")\n",
    "location = geolocator.reverse(\"52.509669, 13.376294\")\n",
    "print(location.address)\n",
    "Potsdamer Platz, Mitte, Berlin, 10117, Deutschland, European Union\n",
    "print((location.latitude, location.longitude))\n",
    "(52.5094982, 13.3765983)\n",
    "print(location.raw)\n",
    "{'place_id': '654513', 'osm_type': 'node', ...}"
   ]
  },
  {
   "cell_type": "code",
   "execution_count": 10,
   "id": "da00e7e3",
   "metadata": {},
   "outputs": [
    {
     "name": "stdout",
     "output_type": "stream",
     "text": [
      "538.3904453677205\n"
     ]
    },
    {
     "data": {
      "text/plain": [
       "538.390445368"
      ]
     },
     "execution_count": 10,
     "metadata": {},
     "output_type": "execute_result"
    }
   ],
   "source": [
    "from geopy.distance import geodesic\n",
    "newport_ri = (41.49008, -71.312796)\n",
    "cleveland_oh = (41.499498, -81.695391)\n",
    "print(geodesic(newport_ri, cleveland_oh).miles)\n",
    "538.390445368"
   ]
  },
  {
   "cell_type": "code",
   "execution_count": 9,
   "id": "1bcaf4b8",
   "metadata": {},
   "outputs": [
    {
     "name": "stdout",
     "output_type": "stream",
     "text": [
      "536.9979906964345\n"
     ]
    },
    {
     "data": {
      "text/plain": [
       "536.997990696"
      ]
     },
     "execution_count": 9,
     "metadata": {},
     "output_type": "execute_result"
    }
   ],
   "source": [
    "from geopy.distance import great_circle\n",
    "newport_ri = (41.49008, -71.312796)\n",
    "cleveland_oh = (41.499498, -81.695391)\n",
    "print(great_circle(newport_ri, cleveland_oh).miles)\n",
    "536.997990696\n"
   ]
  },
  {
   "cell_type": "code",
   "execution_count": null,
   "id": "ca89be60",
   "metadata": {},
   "outputs": [],
   "source": []
  }
 ],
 "metadata": {
  "kernelspec": {
   "display_name": "Python 3",
   "language": "python",
   "name": "python3"
  },
  "language_info": {
   "codemirror_mode": {
    "name": "ipython",
    "version": 3
   },
   "file_extension": ".py",
   "mimetype": "text/x-python",
   "name": "python",
   "nbconvert_exporter": "python",
   "pygments_lexer": "ipython3",
   "version": "3.8.8"
  }
 },
 "nbformat": 4,
 "nbformat_minor": 5
}
